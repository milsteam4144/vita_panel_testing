{
 "cells": [
  {
   "cell_type": "markdown",
   "id": "3a06734c-8852-4ba6-888e-d006d8857c2f",
   "metadata": {},
   "source": [
    "# Problem :Using 'break' to stop while loops"
   ]
  },
  {
   "cell_type": "markdown",
   "id": "05a1a642-c4c4-404b-83d3-b8721a9ccd2b",
   "metadata": {},
   "source": [
    "### Why should 'break' not be used?"
   ]
  },
  {
   "cell_type": "markdown",
   "id": "3305c4f9-8e83-4465-b970-fa26715dfe08",
   "metadata": {},
   "source": [
    "#### Reason"
   ]
  },
  {
   "cell_type": "markdown",
   "id": "013f25bd-6db8-40b3-b2cb-c809d279cc52",
   "metadata": {},
   "source": [
    "* it is not considered best practice\n",
    "* Boolean expression should be used instead"
   ]
  },
  {
   "cell_type": "markdown",
   "id": "7e8de9c0-edaa-427f-a173-8c0e575d5975",
   "metadata": {},
   "source": [
    "#### program example "
   ]
  },
  {
   "cell_type": "code",
   "execution_count": null,
   "id": "6554362a-4383-4d71-836d-efdbe11c4eab",
   "metadata": {},
   "outputs": [],
   "source": [
    "def calculate_travel_time(distance, speed):\n",
    "    \"\"\"Calculates travel time in minutes.\"\"\"\n",
    "    return distance /speed\n",
    "\n",
    "\n",
    "while True:\n",
    "\n",
    "        #Get user inputs\n",
    "        distance = float(input(\"Enter route distance (miles): \"))\n",
    "        speed = float(input(\"Enter route speed (miles/hour):\"))\n",
    "        \n",
    "        #Validate inputs\n",
    "        if distance <= 0 or speed <= 0:\n",
    "            print(\"Invalid input! Distance and speed must be greater than zero.\")\n",
    "        \n",
    "        #Calculate travel time\n",
    "        travel_time = calculate_travel_time(distance, speed)\n",
    "        # determine hours and minutes\n",
    "\n",
    "        total_minutes = travel_time * 60\n",
    "\n",
    "        # Get hours and minutes\n",
    "        hours = int(total_minutes // 60)\n",
    "        minutes = int(total_minutes % 60)\n",
    "\n",
    "\n",
    "        print(f\"Estimated travel time: {hours} hours and {minutes} minutes\")\n",
    "            \n",
    "        #Ask if the user wants to add another route\n",
    "        run_again = input(\"More routes (y/n)?:\").strip().lower()\n",
    "        if run_again == 'n':\n",
    "            break\n",
    "\n",
    "print(\"Program Ends\")"
   ]
  },
  {
   "cell_type": "markdown",
   "id": "2303659f-d48c-4064-a547-fc15bd48260b",
   "metadata": {},
   "source": [
    "#### Solution: Using Boolean expression to stop the loop "
   ]
  },
  {
   "cell_type": "code",
   "execution_count": null,
   "id": "f0990f41-6b15-4247-ab36-c9ce275ecce2",
   "metadata": {},
   "outputs": [],
   "source": [
    "#Calculating Speed\n",
    "\n",
    "def calculate_travel_time(distance, speed):\n",
    "    \"\"\"Calculates travel time in minutes.\"\"\"\n",
    "    return distance /speed\n",
    "\n",
    "# create variable 'sentinel'\n",
    "run_again = 0 # notice sentinel variable is assinged a value that allows the loop to run\n",
    "\n",
    "while run_again != 'n': # as long as run_again doesn't equal the sentinel 'n' , the loop will run\n",
    "\n",
    "        #Get user inputs\n",
    "        distance = float(input(\"Enter route distance (miles): \"))\n",
    "        speed = float(input(\"Enter route speed (miles/hour):\"))\n",
    "        \n",
    "        #Validate inputs\n",
    "        if distance <= 0 or speed <= 0:\n",
    "            print(\"Invalid input! Distance and speed must be greater than zero.\")\n",
    "        \n",
    "        #Calculate travel time\n",
    "        travel_time = calculate_travel_time(distance, speed)\n",
    "        # determine hours and minutes\n",
    "\n",
    "        total_minutes = travel_time * 60\n",
    "\n",
    "        # Get hours and minutes\n",
    "        hours = int(total_minutes // 60)\n",
    "        minutes = int(total_minutes % 60)\n",
    "\n",
    "\n",
    "        print(f\"Estimated travel time: {hours} hours and {minutes} minutes\")\n",
    "            \n",
    "        #Ask if the user wants to add another route\n",
    "        run_again = input(\"More routes (y/n)?:\").strip().lower()\n",
    "\n",
    "\n",
    "print(\"Program Ends\")"
   ]
  },
  {
   "cell_type": "markdown",
   "id": "016bdb36-00ed-4937-bbdd-625d8afe7137",
   "metadata": {},
   "source": [
    "#### Resources: link to video explaining concept\n",
    "- https://www.youtube.com/watch?v=CidUMh5jJ24"
   ]
  }
 ],
 "metadata": {
  "kernelspec": {
   "display_name": "Python 3 (ipykernel)",
   "language": "python",
   "name": "python3"
  },
  "language_info": {
   "codemirror_mode": {
    "name": "ipython",
    "version": 3
   },
   "file_extension": ".py",
   "mimetype": "text/x-python",
   "name": "python",
   "nbconvert_exporter": "python",
   "pygments_lexer": "ipython3",
   "version": "3.12.7"
  }
 },
 "nbformat": 4,
 "nbformat_minor": 5
}
