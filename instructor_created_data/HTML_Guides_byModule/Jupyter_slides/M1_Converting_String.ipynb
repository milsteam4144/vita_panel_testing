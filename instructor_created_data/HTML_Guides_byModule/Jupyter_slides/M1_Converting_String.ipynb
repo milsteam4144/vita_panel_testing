{
 "cells": [
  {
   "cell_type": "markdown",
   "id": "ff1ead05-3ac9-443a-970a-b17a7d4f526c",
   "metadata": {},
   "source": [
    "# Converting User Input"
   ]
  },
  {
   "attachments": {},
   "cell_type": "markdown",
   "id": "9db5ef60-e7e3-421d-b209-c250e83e2704",
   "metadata": {},
   "source": [
    "- input function always returns a string\n",
    "- See example below"
   ]
  },
  {
   "cell_type": "code",
   "execution_count": 1,
   "id": "4d3e89a5-5dbd-47bf-a384-a45d7b6d7129",
   "metadata": {},
   "outputs": [
    {
     "name": "stdin",
     "output_type": "stream",
     "text": [
      "Enter product price :  85\n"
     ]
    },
    {
     "ename": "TypeError",
     "evalue": "can't multiply sequence by non-int of type 'float'",
     "output_type": "error",
     "traceback": [
      "\u001b[1;31m---------------------------------------------------------------------------\u001b[0m",
      "\u001b[1;31mTypeError\u001b[0m                                 Traceback (most recent call last)",
      "Cell \u001b[1;32mIn[1], line 5\u001b[0m\n\u001b[0;32m      2\u001b[0m price \u001b[38;5;241m=\u001b[39m \u001b[38;5;28minput\u001b[39m(\u001b[38;5;124m\"\u001b[39m\u001b[38;5;124mEnter product price : \u001b[39m\u001b[38;5;124m\"\u001b[39m)\n\u001b[0;32m      4\u001b[0m \u001b[38;5;66;03m# calculate 6% tax and display result\u001b[39;00m\n\u001b[1;32m----> 5\u001b[0m tax \u001b[38;5;241m=\u001b[39m price \u001b[38;5;241m*\u001b[39m \u001b[38;5;241m0.06\u001b[39m \u001b[38;5;66;03m# this statement will display a syntax error\u001b[39;00m\n\u001b[0;32m      6\u001b[0m \u001b[38;5;28mprint\u001b[39m(tax)\n",
      "\u001b[1;31mTypeError\u001b[0m: can't multiply sequence by non-int of type 'float'"
     ]
    }
   ],
   "source": [
    "# get product price\n",
    "price = input(\"Enter product price : \")\n",
    "\n",
    "# calculate 6% tax and display result\n",
    "tax = price * 0.06 # this statement will display a syntax error\n",
    "print(tax)"
   ]
  },
  {
   "cell_type": "markdown",
   "id": "4404f2fb-08a1-44b1-9660-ff5a1f6785c4",
   "metadata": {},
   "source": [
    "#### input function will ALWAYS return a string , hence the reason we got the error above\n",
    "#### To use numbers entered by user in a calculation , they MUST be converted to actual numbers"
   ]
  },
  {
   "cell_type": "markdown",
   "id": "9704dfb9-337a-4aa2-b36c-a55acaf726cb",
   "metadata": {},
   "source": [
    "# Built-In functions used to convert string to numbers"
   ]
  },
  {
   "attachments": {},
   "cell_type": "markdown",
   "id": "2c8ae261-df1b-4478-b9ed-6ec74657b435",
   "metadata": {},
   "source": [
    "## int(item) converts item to an int"
   ]
  },
  {
   "cell_type": "code",
   "execution_count": null,
   "id": "441ec2ab-9323-4e3c-89f8-bc03886dce96",
   "metadata": {},
   "outputs": [],
   "source": [
    "# int is a whole number, no decimals\n",
    "price = int( input (\"Enter product price : \") )"
   ]
  },
  {
   "cell_type": "markdown",
   "id": "d03b062c-76a5-4e93-b1ca-ec5103c4976a",
   "metadata": {},
   "source": [
    "## float(item) converts item to a float"
   ]
  },
  {
   "cell_type": "code",
   "execution_count": null,
   "id": "82cd5b29-f195-4737-bf5b-fedb32670284",
   "metadata": {},
   "outputs": [],
   "source": [
    "# float converts the number the user enters to a float\n",
    "price = float( input (\"Enter product price : \") )"
   ]
  },
  {
   "attachments": {},
   "cell_type": "markdown",
   "id": "7a6e4c3b-f629-478d-a210-71a37fc289d0",
   "metadata": {},
   "source": [
    "### In examples shown above , Nested function call was used\n",
    "- general format: function1(function2(argument))\n",
    "- value returned by function2 is passed to function1\n",
    "- Type conversion only works if item is valid numeric value, otherwise, throws exception\n"
   ]
  },
  {
   "cell_type": "code",
   "execution_count": null,
   "id": "82c7c322-ad90-471e-9648-52907d3d6bf1",
   "metadata": {},
   "outputs": [],
   "source": []
  }
 ],
 "metadata": {
  "kernelspec": {
   "display_name": "Python 3 (ipykernel)",
   "language": "python",
   "name": "python3"
  },
  "language_info": {
   "codemirror_mode": {
    "name": "ipython",
    "version": 3
   },
   "file_extension": ".py",
   "mimetype": "text/x-python",
   "name": "python",
   "nbconvert_exporter": "python",
   "pygments_lexer": "ipython3",
   "version": "3.12.7"
  }
 },
 "nbformat": 4,
 "nbformat_minor": 5
}
