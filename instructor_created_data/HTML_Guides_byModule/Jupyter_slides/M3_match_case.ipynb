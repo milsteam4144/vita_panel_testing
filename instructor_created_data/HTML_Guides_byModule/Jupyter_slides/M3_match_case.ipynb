{
 "cells": [
  {
   "cell_type": "markdown",
   "id": "a4b3524b-8d4c-4088-83eb-722baf7aa856",
   "metadata": {},
   "source": [
    "# Match-Case Statements"
   ]
  },
  {
   "cell_type": "markdown",
   "id": "833eaee3-4c25-4073-bd79-6dede0de4d90",
   "metadata": {},
   "source": [
    "##### . Introduced in Python version 3.10 \n",
    "##### . Can be used instead of if-elif statements\n",
    "##### . Similar to Switch statements\n",
    "##### . Evaluates expressions against a Case and then executes Code"
   ]
  },
  {
   "cell_type": "markdown",
   "id": "d0e6af6e-d2da-41ac-ac6e-d130d8de82f2",
   "metadata": {},
   "source": [
    "### Example using if-elif Statements"
   ]
  },
  {
   "cell_type": "code",
   "execution_count": 3,
   "id": "482f70c3-9125-406a-9a1d-152ee25ae9f0",
   "metadata": {},
   "outputs": [
    {
     "name": "stdout",
     "output_type": "stream",
     "text": [
      "1 Entered\n"
     ]
    }
   ],
   "source": [
    "user_input = '1'\n",
    "if user_input == '1' or user_input == 1:\n",
    "    print('1 Entered') \n",
    "elif user_input == '2' or user_input == 2:\n",
    "    print('2 Entered')\n",
    "else:\n",
    "    print('1 or 2 should have been entered!')"
   ]
  },
  {
   "cell_type": "markdown",
   "id": "51f73436-ae91-4ac0-ad38-4f34070a0362",
   "metadata": {},
   "source": [
    "### Example using Match-Case Statements"
   ]
  },
  {
   "cell_type": "code",
   "execution_count": 4,
   "id": "d0a4dda9-d6c6-44cf-96b1-a35c508cf6e2",
   "metadata": {},
   "outputs": [
    {
     "name": "stdout",
     "output_type": "stream",
     "text": [
      "1 or 2 should have been entered!\n"
     ]
    }
   ],
   "source": [
    "user_input = '3'\n",
    "match user_input:\n",
    "    case '1' | 1:\n",
    "        print('1 Entered')\n",
    "    case '2' | 2:\n",
    "        print('2 Entered')\n",
    "    case _: # wildcare _ used to evaluate other entries\n",
    "        print('1 or 2 should have been entered!')"
   ]
  },
  {
   "cell_type": "code",
   "execution_count": null,
   "id": "6f4768d6-ba65-470e-93a6-142564d907a4",
   "metadata": {},
   "outputs": [],
   "source": []
  }
 ],
 "metadata": {
  "kernelspec": {
   "display_name": "Python 3 (ipykernel)",
   "language": "python",
   "name": "python3"
  },
  "language_info": {
   "codemirror_mode": {
    "name": "ipython",
    "version": 3
   },
   "file_extension": ".py",
   "mimetype": "text/x-python",
   "name": "python",
   "nbconvert_exporter": "python",
   "pygments_lexer": "ipython3",
   "version": "3.12.7"
  }
 },
 "nbformat": 4,
 "nbformat_minor": 5
}
