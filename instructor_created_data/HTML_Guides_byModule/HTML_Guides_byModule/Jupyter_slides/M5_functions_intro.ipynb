{
 "cells": [
  {
   "cell_type": "markdown",
   "metadata": {},
   "source": [
    "# Defining Functions\n",
    "* `sqr` function that calculates the square of the argument passed to it."
   ]
  },
  {
   "cell_type": "code",
   "execution_count": 1,
   "metadata": {},
   "outputs": [],
   "source": [
    "def sqr(number):\n",
    "    \"\"\"Calculate and return the square of number.\"\"\"\n",
    "    return number ** 2"
   ]
  },
  {
   "cell_type": "code",
   "execution_count": 2,
   "metadata": {},
   "outputs": [
    {
     "data": {
      "text/plain": [
       "49"
      ]
     },
     "execution_count": 2,
     "metadata": {},
     "output_type": "execute_result"
    }
   ],
   "source": [
    "sqr(7)"
   ]
  },
  {
   "cell_type": "code",
   "execution_count": 3,
   "metadata": {},
   "outputs": [
    {
     "data": {
      "text/plain": [
       "6.25"
      ]
     },
     "execution_count": 3,
     "metadata": {},
     "output_type": "execute_result"
    }
   ],
   "source": [
    "sqr(2.5)"
   ]
  },
  {
   "cell_type": "markdown",
   "metadata": {},
   "source": [
    "* Calling `square` with a non-numeric argument like `'hello'` causes a `TypeError` because the exponentiation operator (`**`) works only with numeric values"
   ]
  },
  {
   "cell_type": "markdown",
   "metadata": {},
   "source": [
    "### Defining a Custom Function\n",
    "* Definition begins with the (**`def` keyword**, followed by the function name, a set of parentheses and a colon (`:`). \n",
    "* By convention function names should begin with a lowercase letter and in multiword names underscores should separate each word. \n",
    "* Required parentheses contain the function’s **parameter list**.\n",
    "* Empty parentheses mean no parameters. \n",
    "* Statement to be executed when the function is called are to be indented below the function def\n",
    "* Functions should be assigned a **docstring** (comment block)\n",
    "    * First line in a function’s block , should briefly explain the function’s purpose.\n",
    "    * docstring should indicate if the function requires arguments and/or if it returns values."
   ]
  },
  {
   "cell_type": "markdown",
   "metadata": {},
   "source": [
    "### Calling Value Returning Functions"
   ]
  },
  {
   "cell_type": "markdown",
   "metadata": {},
   "source": [
    "* If we just want to display the returned value, the function call can be embedded in a print statement"
   ]
  },
  {
   "cell_type": "code",
   "execution_count": 4,
   "metadata": {},
   "outputs": [
    {
     "name": "stdout",
     "output_type": "stream",
     "text": [
      "The square of 7 is 49\n"
     ]
    }
   ],
   "source": [
    "print('The square of 7 is', sqr(7))"
   ]
  },
  {
   "cell_type": "markdown",
   "metadata": {},
   "source": [
    "* If the value(s) the function return need to be used, either in a formula or maybe passed as argument to other statements, the value(s) **Must** be assigned to variables"
   ]
  },
  {
   "cell_type": "code",
   "execution_count": 5,
   "metadata": {},
   "outputs": [
    {
     "name": "stdout",
     "output_type": "stream",
     "text": [
      "The square is: 2025\n"
     ]
    }
   ],
   "source": [
    "square = sqr(45)\n",
    "print('The square is:',square) "
   ]
  },
  {
   "cell_type": "markdown",
   "metadata": {},
   "source": [
    "* If a function return multiple values , consider assigning each value to a different varaible\n"
   ]
  },
  {
   "cell_type": "code",
   "execution_count": 6,
   "metadata": {},
   "outputs": [],
   "source": [
    "def sales_total(sales):\n",
    "    '''Function requires 1 argument\n",
    "    parameter var(s): \n",
    "    sales : float\n",
    "    \n",
    "    function determines if sales rep gets commision (if sales >= 500)\n",
    "    \n",
    "    returns  total, commision\n",
    "    '''\n",
    "    # determine commision\n",
    "\n",
    "    if sales >= 500:\n",
    "        comm = sales * 0.25 # 25% commision\n",
    "    else:\n",
    "        comm =0\n",
    "    total = sales + comm\n",
    "    return total, comm\n",
    "        "
   ]
  },
  {
   "cell_type": "code",
   "execution_count": 7,
   "metadata": {},
   "outputs": [],
   "source": [
    "# function call\n",
    "total, comm =sales_total(1500) # returned values will be passed by position"
   ]
  },
  {
   "cell_type": "code",
   "execution_count": 11,
   "metadata": {},
   "outputs": [
    {
     "name": "stdout",
     "output_type": "stream",
     "text": [
      "Payment: $300 Commision: $0\n"
     ]
    }
   ],
   "source": [
    "print(\"Payment: $\",total, \" Commision: $\",comm, sep='')"
   ]
  },
  {
   "cell_type": "code",
   "execution_count": 12,
   "metadata": {},
   "outputs": [],
   "source": [
    "total, comm =sales_total(300)"
   ]
  },
  {
   "cell_type": "code",
   "execution_count": 13,
   "metadata": {},
   "outputs": [
    {
     "name": "stdout",
     "output_type": "stream",
     "text": [
      "Payment: $300 Commision: $0\n"
     ]
    }
   ],
   "source": [
    "print(\"Payment: $\",total, \" Commision: $\",comm, sep='')"
   ]
  }
 ],
 "metadata": {
  "kernelspec": {
   "display_name": "Python 3",
   "language": "python",
   "name": "python3"
  },
  "language_info": {
   "codemirror_mode": {
    "name": "ipython",
    "version": 3
   },
   "file_extension": ".py",
   "mimetype": "text/x-python",
   "name": "python",
   "nbconvert_exporter": "python",
   "pygments_lexer": "ipython3",
   "version": "3.7.6"
  }
 },
 "nbformat": 4,
 "nbformat_minor": 2
}
