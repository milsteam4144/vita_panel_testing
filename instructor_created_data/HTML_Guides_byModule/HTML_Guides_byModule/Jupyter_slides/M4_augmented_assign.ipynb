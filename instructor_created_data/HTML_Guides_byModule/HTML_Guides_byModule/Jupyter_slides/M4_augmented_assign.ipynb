{
 "cells": [
  {
   "cell_type": "markdown",
   "metadata": {},
   "source": [
    "# Augmented Assignments Operators\n",
    "* Abbreviate assignment expressions in which the same variable name appears on the left and right of the `=`."
   ]
  },
  {
   "cell_type": "code",
   "execution_count": 1,
   "metadata": {},
   "outputs": [],
   "source": [
    "total = 0"
   ]
  },
  {
   "cell_type": "code",
   "execution_count": 2,
   "metadata": {},
   "outputs": [],
   "source": [
    "for score in [98, 80, 75.5, 78, 100]:\n",
    "    total += score  # scores added to variable total every time the loop iterates"
   ]
  },
  {
   "cell_type": "code",
   "execution_count": 3,
   "metadata": {},
   "outputs": [
    {
     "data": {
      "text/plain": [
       "431.5"
      ]
     },
     "execution_count": 3,
     "metadata": {},
     "output_type": "execute_result"
    }
   ],
   "source": [
    "total"
   ]
  },
  {
   "cell_type": "markdown",
   "metadata": {},
   "source": [
    "* In the following table assume: `c = 3`, `d = 5`, `e = 4`, `f = 2`, `g = 9`, `h = 12`\n",
    "\n",
    "| Augmented assignment | Sample expression| Explanation| Assigns\n",
    "| :----- | :----- | :----- | :-----\n",
    "| `+=` | `c += 7` | `c = c + 7` | `10 to c`\n",
    "| `-=` | `d -= 4` | `d = d - 4` | `1 to d`\n",
    "| `*=` | `e *= 5`  | `e = e * 5` | `20 to e`\n",
    "| `**=` | `f **= 3` | `f = f ** 3` | `8 to f`\n",
    "| `/=` | `g /= 2` | `g = g / 2` | `4.5 to g`\n",
    "| `//=` | `g //= 2` | `g = g // 2` | `4 to g`\n",
    "| `%=` | `h %= 9` | `h = h % 9` | `3 to h`"
   ]
  }
 ],
 "metadata": {
  "kernelspec": {
   "display_name": "Python 3",
   "language": "python",
   "name": "python3"
  },
  "language_info": {
   "codemirror_mode": {
    "name": "ipython",
    "version": 3
   },
   "file_extension": ".py",
   "mimetype": "text/x-python",
   "name": "python",
   "nbconvert_exporter": "python",
   "pygments_lexer": "ipython3",
   "version": "3.7.6"
  }
 },
 "nbformat": 4,
 "nbformat_minor": 2
}
