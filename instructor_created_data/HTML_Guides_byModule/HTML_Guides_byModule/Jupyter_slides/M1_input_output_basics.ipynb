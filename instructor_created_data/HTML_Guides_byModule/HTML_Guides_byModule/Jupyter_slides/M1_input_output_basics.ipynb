{
 "cells": [
  {
   "cell_type": "markdown",
   "id": "d5e27a36-8429-4490-9ef8-b7f0f0272d53",
   "metadata": {},
   "source": [
    "# What is pseudocode?"
   ]
  },
  {
   "attachments": {},
   "cell_type": "markdown",
   "id": "d99a5fc8-cef0-4914-8585-083e63d9bd7c",
   "metadata": {},
   "source": [
    "- Informal language that has no syntax rule \n",
    "- Comments the programmer adds to code explaining main program logic (flow)\n",
    "- Intended for a person reading the program’s code\n",
    "- Not meant to be compiled or executed\n",
    "\n",
    "  - No need to worry about syntax errors\n",
    "  - Can be translated directly into actual code in any programming language\n",
    "    "
   ]
  },
  {
   "attachments": {},
   "cell_type": "markdown",
   "id": "3f3d2f59-456f-4da8-a0f9-bae8b5488974",
   "metadata": {},
   "source": [
    "### How to add a comment (example)\n",
    " use # character"
   ]
  },
  {
   "cell_type": "code",
   "execution_count": null,
   "id": "3551d947-aacc-469a-bd52-e03111ff5228",
   "metadata": {},
   "outputs": [],
   "source": [
    "# This is a comment"
   ]
  },
  {
   "cell_type": "markdown",
   "id": "7e5bc2ab-836e-46e8-a7da-2946529fb25b",
   "metadata": {},
   "source": [
    "# Input , Processing and Output"
   ]
  },
  {
   "attachments": {},
   "cell_type": "markdown",
   "id": "73a454fe-183e-489f-a3c5-ce8cb76c48df",
   "metadata": {},
   "source": [
    "### Typically, computer performs three-step process\n",
    "- Receive input\n",
    "  - Input: any data that the program receives while it is running\n",
    "- Perform some process on the input\n",
    "  - Example: mathematical calculation\n",
    "- Produce output\n"
   ]
  },
  {
   "cell_type": "markdown",
   "id": "d6dc8de8-788d-43e4-af11-ea78ff7ef018",
   "metadata": {},
   "source": [
    "# print() Function "
   ]
  },
  {
   "cell_type": "markdown",
   "id": "ec349a82-3153-4cda-9b4f-e2f164cc166e",
   "metadata": {},
   "source": [
    "- Displays output on Screen\n",
    "- no limit to arguments passed\n",
    "- print statements are executed in the order they appear , from top to bottom."
   ]
  },
  {
   "cell_type": "code",
   "execution_count": 1,
   "id": "7d757945-f0b4-4885-bbb8-cd5eb3d6aed9",
   "metadata": {},
   "outputs": [
    {
     "name": "stdout",
     "output_type": "stream",
     "text": [
      "Suzanna is 29\n"
     ]
    }
   ],
   "source": [
    "# variable age created and assigned value of 29 below\n",
    "age = 29\n",
    "# information displayed to user using print statement\n",
    "print(\"Suzanna is\",age) # arguments seperated by comma"
   ]
  },
  {
   "attachments": {},
   "cell_type": "markdown",
   "id": "5665cc78-a84a-4140-860b-d0dba339f749",
   "metadata": {},
   "source": [
    "# Get input from user using input() Function\n",
    "- Built-in input function reads input from keyboard\n",
    "- Returns the data as a string\n",
    "- Format: variable = input(prompt)\n",
    "  - prompt is typically a string instructing user to enter a value\n"
   ]
  },
  {
   "cell_type": "markdown",
   "id": "f817d6ce-b3b2-4a57-bc6e-8b6c82b6914e",
   "metadata": {},
   "source": [
    "### Example using input() function"
   ]
  },
  {
   "cell_type": "code",
   "execution_count": 2,
   "id": "c2bb08c0-3e56-4a74-8f95-4d63bcb3b758",
   "metadata": {},
   "outputs": [
    {
     "name": "stdin",
     "output_type": "stream",
     "text": [
      "Enter your name:  Sam\n"
     ]
    }
   ],
   "source": [
    "name = input(\"Enter your name: \") # notice collected information is assigned to a variable , variable name"
   ]
  },
  {
   "cell_type": "code",
   "execution_count": 3,
   "id": "b4aefe63-4860-490a-8f67-bdc042316c00",
   "metadata": {},
   "outputs": [
    {
     "name": "stdout",
     "output_type": "stream",
     "text": [
      "Hello Sam\n"
     ]
    }
   ],
   "source": [
    "# print statement below displays what the user entered\n",
    "print(\"Hello\",name)"
   ]
  }
 ],
 "metadata": {
  "kernelspec": {
   "display_name": "Python 3 (ipykernel)",
   "language": "python",
   "name": "python3"
  },
  "language_info": {
   "codemirror_mode": {
    "name": "ipython",
    "version": 3
   },
   "file_extension": ".py",
   "mimetype": "text/x-python",
   "name": "python",
   "nbconvert_exporter": "python",
   "pygments_lexer": "ipython3",
   "version": "3.12.7"
  }
 },
 "nbformat": 4,
 "nbformat_minor": 5
}
