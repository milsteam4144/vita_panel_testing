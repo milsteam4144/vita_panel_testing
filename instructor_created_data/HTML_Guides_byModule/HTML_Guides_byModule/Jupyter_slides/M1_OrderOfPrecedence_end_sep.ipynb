{
 "cells": [
  {
   "attachments": {},
   "cell_type": "markdown",
   "id": "5cf75694-6adf-4ee0-bceb-8922e959d7fd",
   "metadata": {},
   "source": [
    "# Operator  Precedence "
   ]
  },
  {
   "attachments": {},
   "cell_type": "markdown",
   "id": "9e2752aa-4522-4060-858d-eb10291fe74c",
   "metadata": {},
   "source": [
    "## Python operator precedence:\n",
    "1. Operations enclosed in parentheses\n",
    "2. Forces operations to be performed before others\n",
    "3. Exponentiation (**)\n",
    "4. Multiplication (*), division (/ and //), and remainder (%)\n",
    "5. Addition (+) and subtraction (-)"
   ]
  },
  {
   "attachments": {},
   "cell_type": "markdown",
   "id": "a2e10d3e-9334-482a-834a-833be33b10de",
   "metadata": {},
   "source": [
    "### Higher precedence performed first\n",
    "- Same precedence operators execute from left to right"
   ]
  },
  {
   "cell_type": "markdown",
   "id": "8ceaf452-982c-4270-bae8-55a1a1fe36e7",
   "metadata": {},
   "source": [
    "# More About Data Output"
   ]
  },
  {
   "cell_type": "markdown",
   "id": "d064e905-13fa-49bd-9c33-6e1c2d8e50bb",
   "metadata": {},
   "source": [
    "### Function `print`’s `end` Keyword Argument \n",
    "* `print` displays its argument(s), then moves the cursor to the next line. \n",
    "* Can change this behavior with the argument `end`:\n",
    ">```python\n",
    "print(character, end='  ') \n",
    "```\n",
    "* `end` is a **keyword argument**, but it's not a Python keyword. \n",
    "* 'end' is used to seperate statements but the delemiter passed to 'end' . As apposed to seperating the statements by a new line. see example below"
   ]
  },
  {
   "cell_type": "code",
   "execution_count": 1,
   "id": "c7a4a306-6111-423f-8d68-18ca16d58438",
   "metadata": {},
   "outputs": [
    {
     "name": "stdout",
     "output_type": "stream",
     "text": [
      "Hello How are you?\n"
     ]
    }
   ],
   "source": [
    "print(\"Hello\",end=' ')\n",
    "print(\"How are you?\")"
   ]
  },
  {
   "cell_type": "markdown",
   "id": "255bb661-fe82-4315-a44c-e0878c92ee24",
   "metadata": {},
   "source": [
    "### Function `print`’s `sep` Keyword Argument \n",
    "* Keyword argument `sep` (short for separator) specifies the string that appears between the items that print displays. \n",
    "* A space character by default. \n",
    "* To remove the spaces, use an empty string with no characters between its quotes."
   ]
  },
  {
   "cell_type": "code",
   "execution_count": 2,
   "id": "9f4b84fa-368d-4b55-b8db-601b151bdc94",
   "metadata": {},
   "outputs": [
    {
     "name": "stdout",
     "output_type": "stream",
     "text": [
      "10, 20, 30\n"
     ]
    }
   ],
   "source": [
    "print(10, 20, 30, sep=', ')"
   ]
  },
  {
   "cell_type": "code",
   "execution_count": null,
   "id": "a4ac4b0d-238b-4294-8d33-4036ce2db547",
   "metadata": {},
   "outputs": [],
   "source": []
  }
 ],
 "metadata": {
  "kernelspec": {
   "display_name": "Python 3 (ipykernel)",
   "language": "python",
   "name": "python3"
  },
  "language_info": {
   "codemirror_mode": {
    "name": "ipython",
    "version": 3
   },
   "file_extension": ".py",
   "mimetype": "text/x-python",
   "name": "python",
   "nbconvert_exporter": "python",
   "pygments_lexer": "ipython3",
   "version": "3.12.7"
  }
 },
 "nbformat": 4,
 "nbformat_minor": 5
}
